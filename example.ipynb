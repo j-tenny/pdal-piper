{
 "cells": [
  {
   "metadata": {},
   "cell_type": "markdown",
   "source": "## Example"
  },
  {
   "metadata": {},
   "cell_type": "markdown",
   "source": "In this example, we will find public lidar data on an online server, download data, clean it, canopy height statistics, and write files locally."
  },
  {
   "metadata": {},
   "cell_type": "markdown",
   "source": [
    "## Find point cloud data\n",
    "First we need to get some data to work with. I will show one method to pull data from an online server. First, we must define an area of interest using a bounding box `[xmin, ymin, xmax, ymax]`. \n",
    "\n",
    "In the first cell, I demonstrate how you can extract a bounding box from an interactive map using ipyleaflet (`conda install ipyleaflet`). Alternatively, you can skip this step and input a bounding box manually."
   ]
  },
  {
   "metadata": {
    "ExecuteTime": {
     "end_time": "2025-01-08T21:46:06.960170Z",
     "start_time": "2025-01-08T21:46:06.735932Z"
    }
   },
   "cell_type": "code",
   "source": [
    "import ipyleaflet\n",
    "\n",
    "basemap = ipyleaflet.TileLayer(url='https://services.arcgisonline.com/arcgis/rest/services/World_Imagery/MapServer/tile/{z}/{y}/{x}')\n",
    "m = ipyleaflet.Map(center=[39, -100], zoom=5, scroll_wheel_zoom=True, basemap=basemap)\n",
    "m.add(ipyleaflet.WMSLayer(url='https://index.nationalmap.gov:443/arcgis/services/3DEPElevationIndex/MapServer/WmsServer?',\n",
    "                          layers='23',opacity=.5,name='USGS 3DEP overlay'))\n",
    "m.add(ipyleaflet.LayersControl())\n",
    "bbox = None\n",
    "def handle_draw(target, action, geo_json):\n",
    "    global bbox\n",
    "    coords = geo_json['geometry']['coordinates'][0]\n",
    "    bbox = [coords[0][0], coords[0][1], coords[2][0], coords[2][1]]\n",
    "draw_control = ipyleaflet.DrawControl(rectangle={'shapeOptions': {'color': '#0000FF'}},\n",
    "    polyline={}, polygon={}, circle={}, circlemarker={}, marker={}\n",
    ")\n",
    "draw_control.on_draw(handle_draw)\n",
    "m.add_control(draw_control)\n",
    "m"
   ],
   "outputs": [
    {
     "data": {
      "text/plain": [
       "Map(center=[39, -100], controls=(ZoomControl(options=['position', 'zoom_in_text', 'zoom_in_title', 'zoom_out_t…"
      ],
      "application/vnd.jupyter.widget-view+json": {
       "version_major": 2,
       "version_minor": 0,
       "model_id": "785e8594b9724a6ea10e0c0e4f5d2ecd"
      }
     },
     "execution_count": 1,
     "metadata": {},
     "output_type": "execute_result"
    }
   ],
   "execution_count": 1
  },
  {
   "metadata": {
    "ExecuteTime": {
     "end_time": "2025-01-08T21:47:11.378760Z",
     "start_time": "2025-01-08T21:47:11.374953Z"
    }
   },
   "cell_type": "code",
   "source": [
    "# Print bounding box selected in interactive map\n",
    "bbox\n",
    "\n",
    "# If you want manually input a bounding box, uncomment the line below and edit the values\n",
    "#bbox = [-120.742342, 39.512467, -120.731442, 39.518311]"
   ],
   "outputs": [
    {
     "data": {
      "text/plain": [
       "[-120.742342, 39.512467, -120.731442, 39.518311]"
      ]
     },
     "execution_count": 4,
     "metadata": {},
     "output_type": "execute_result"
    }
   ],
   "execution_count": 4
  },
  {
   "metadata": {},
   "cell_type": "markdown",
   "source": "Next, we can search the USGS 3DEP catalog to find publicly available point clouds that overlap our area of interest using `pdal_piper.USGS_3dep_Finder`. USGS 3DEP is stored in Entwine Point Tile (.ept) format which means we can efficiently download small segments of the point cloud using a url."
  },
  {
   "cell_type": "code",
   "source": [
    "import pdal_piper\n",
    "finder = pdal_piper.USGS_3dep_Finder(bbox,'EPSG:4326')\n",
    "finder.search_result"
   ],
   "metadata": {
    "collapsed": false,
    "ExecuteTime": {
     "end_time": "2025-01-08T21:47:15.929162Z",
     "start_time": "2025-01-08T21:47:14.822714Z"
    }
   },
   "outputs": [
    {
     "data": {
      "text/plain": [
       "                                     name    id        count           area  \\\n",
       "1208  USGS_LPC_CA_NoCAL_Wildfires_B1_2018  1208  86376910091  608175.903458   \n",
       "\n",
       "                                                    url  \\\n",
       "1208  https://s3-us-west-2.amazonaws.com/usgs-lidar-...   \n",
       "\n",
       "                                               geometry  \n",
       "1208  POLYGON ((-120.74234 39.51831, -120.73144 39.5...  "
      ],
      "text/html": [
       "<div>\n",
       "<style scoped>\n",
       "    .dataframe tbody tr th:only-of-type {\n",
       "        vertical-align: middle;\n",
       "    }\n",
       "\n",
       "    .dataframe tbody tr th {\n",
       "        vertical-align: top;\n",
       "    }\n",
       "\n",
       "    .dataframe thead th {\n",
       "        text-align: right;\n",
       "    }\n",
       "</style>\n",
       "<table border=\"1\" class=\"dataframe\">\n",
       "  <thead>\n",
       "    <tr style=\"text-align: right;\">\n",
       "      <th></th>\n",
       "      <th>name</th>\n",
       "      <th>id</th>\n",
       "      <th>count</th>\n",
       "      <th>area</th>\n",
       "      <th>url</th>\n",
       "      <th>geometry</th>\n",
       "    </tr>\n",
       "  </thead>\n",
       "  <tbody>\n",
       "    <tr>\n",
       "      <th>1208</th>\n",
       "      <td>USGS_LPC_CA_NoCAL_Wildfires_B1_2018</td>\n",
       "      <td>1208</td>\n",
       "      <td>86376910091</td>\n",
       "      <td>608175.903458</td>\n",
       "      <td>https://s3-us-west-2.amazonaws.com/usgs-lidar-...</td>\n",
       "      <td>POLYGON ((-120.74234 39.51831, -120.73144 39.5...</td>\n",
       "    </tr>\n",
       "  </tbody>\n",
       "</table>\n",
       "</div>"
      ]
     },
     "execution_count": 5,
     "metadata": {},
     "output_type": "execute_result"
    }
   ],
   "execution_count": 5
  },
  {
   "cell_type": "code",
   "source": [
    "# Here we select the URL for the dataset in the first row. \n",
    "# Alternatively, we could use a loop and download all of the available datasets.\n",
    "url = finder.search_result.iloc[0,4]\n",
    "url"
   ],
   "metadata": {
    "collapsed": false,
    "ExecuteTime": {
     "end_time": "2025-01-08T21:47:17.399734Z",
     "start_time": "2025-01-08T21:47:17.395368Z"
    }
   },
   "outputs": [
    {
     "data": {
      "text/plain": [
       "'https://s3-us-west-2.amazonaws.com/usgs-lidar-public/USGS_LPC_CA_NoCAL_Wildfires_B1_2018/ept.json'"
      ]
     },
     "execution_count": 6,
     "metadata": {},
     "output_type": "execute_result"
    }
   ],
   "execution_count": 6
  },
  {
   "metadata": {},
   "cell_type": "markdown",
   "source": [
    "## Define tile set\n",
    "To improve computational efficiency and scalability, we can divide our area of interest into a set of tiles using a Tiler object. We specify the total extent of the tileset and the size of each tile. Notice, our extents are defined by geographic coordinates (degrees lat/lon) but we defined the tile size in meters, therefore, we set `convert_units=True`. `get_tiles()` gives us some options to format the tiles. We select the first tile from the upper left corner as a test."
   ]
  },
  {
   "cell_type": "code",
   "source": [
    "tiler = pdal_piper.Tiler(extents = bbox, tile_size=100, buffer=0, convert_units=True, crs='EPSG:4326')\n",
    "tile_bounds = tiler.get_tiles(format_as_pdal_str=True,flatten=False)\n",
    "first_tile_bounds = tile_bounds[0,0]\n",
    "first_tile_bounds"
   ],
   "metadata": {
    "collapsed": false,
    "ExecuteTime": {
     "end_time": "2025-01-08T21:47:19.246716Z",
     "start_time": "2025-01-08T21:47:19.241944Z"
    }
   },
   "outputs": [
    {
     "data": {
      "text/plain": [
       "'([-120.742342, -120.74117760947595], [39.517410999099994, 39.518311], [-9999, 9999])/EPSG:4326'"
      ]
     },
     "execution_count": 7,
     "metadata": {},
     "output_type": "execute_result"
    }
   ],
   "execution_count": 7
  },
  {
   "metadata": {},
   "cell_type": "markdown",
   "source": [
    "## Define processing pipeline\n",
    "We need to create a processing pipeline that defines all actions we want PDAL to execute. Each action in the pipeline is described by a 'stage'. In other workflows, the stages are combined in a json-like object, stored as a text file, and run through PDAL via the command line interface. In contrast, `pdal_piper` makes the experience more Pythonic by providing a Python class with built-in documentation for each stage. We use these classes to define each stage, then combine the stages in a list, then pass the list into a Piper object. The Piper object will format the json text and pass it to PDAL for execution. "
   ]
  },
  {
   "metadata": {
    "ExecuteTime": {
     "end_time": "2025-01-08T21:47:21.379762Z",
     "start_time": "2025-01-08T21:47:21.374623Z"
    }
   },
   "cell_type": "code",
   "source": [
    "# Import the stages\n",
    "import pdal_piper.stages as pps\n",
    "\n",
    "# Define processing pipeline for the first tile\n",
    "stages = [\n",
    "    # Read point cloud data from online source\n",
    "    pps.readers_ept(filename=url, bounds=first_tile_bounds),\n",
    "    # Find and remove outliers\n",
    "    pps.filters_outlier(method='statistical',mean_k=12,multiplier=2.2),\n",
    "    pps.filters_range(limits='Classification[0:6]'),\n",
    "    # Calculate height above ground for veg points\n",
    "    pps.filters_hag_delaunay(),\n",
    "    # Save point cloud to disk\n",
    "    pps.writers_copc(filename='D:/DataWork/ALS_test/my_points.laz', extra_dims='all'),\n",
    "    # Calculate canopy metrics\n",
    "    pps.writers_gdal(filename='D:/DataWork/ALS_test/canopy_metrics.tif', resolution=1, \n",
    "                     dimension='HeightAboveGround', output_type='all', binmode=True)    \n",
    "]\n",
    "\n",
    "# Create Piper object that handles formatting\n",
    "piper = pdal_piper.Piper(stages)\n",
    "\n",
    "# View pipeline in json formatting\n",
    "piper.to_json()"
   ],
   "outputs": [
    {
     "data": {
      "text/plain": [
       "'[{\"type\": \"readers.ept\", \"filename\": \"https://s3-us-west-2.amazonaws.com/usgs-lidar-public/USGS_LPC_CA_NoCAL_Wildfires_B1_2018/ept.json\", \"bounds\": \"([-120.742342, -120.74117760947595], [39.517410999099994, 39.518311], [-9999, 9999])/EPSG:4326\"}, {\"type\": \"filters.outlier\", \"method\": \"statistical\", \"mean_k\": 12, \"multiplier\": 2.2}, {\"type\": \"filters.range\", \"limits\": \"Classification[0:6]\"}, {\"type\": \"filters.hag_delaunay\"}, {\"type\": \"writers.copc\", \"filename\": \"D:/DataWork/ALS_test/my_points.laz\", \"extra_dims\": \"all\"}, {\"type\": \"writers.gdal\", \"filename\": \"D:/DataWork/ALS_test/canopy_metrics.tif\", \"binmode\": true, \"resolution\": 1, \"output_type\": \"all\", \"dimension\": \"HeightAboveGround\"}]'"
      ]
     },
     "execution_count": 8,
     "metadata": {},
     "output_type": "execute_result"
    }
   ],
   "execution_count": 8
  },
  {
   "metadata": {
    "ExecuteTime": {
     "end_time": "2025-01-08T21:47:27.388633Z",
     "start_time": "2025-01-08T21:47:22.852905Z"
    }
   },
   "cell_type": "code",
   "source": [
    "# Execute pipeline for first tile as a test\n",
    "pipeline = piper.to_pdal_pipeline() \n",
    "pipeline.execute()\n",
    "# If the log is empty, that is good. Otherwise, errors will show up in the log.\n",
    "pipeline.log"
   ],
   "outputs": [
    {
     "data": {
      "text/plain": [
       "''"
      ]
     },
     "execution_count": 9,
     "metadata": {},
     "output_type": "execute_result"
    }
   ],
   "execution_count": 9
  },
  {
   "metadata": {},
   "cell_type": "markdown",
   "source": [
    "Lastly, we can run the pipeline on all files in the tile set. Tile bounds in the reader stage will automatically be assigned from the unique tile bounds. File names in the writer stages will automatically be assigned a unique value by inserting tile indices between the file basename and the file extension. Pipelines are executed in parallel processes.\n",
    "\n",
    "Note, if `Tiler.buffer>0` and the `filters_crop` stage is used in the pipeline, the filter will automatically use the buffered tile extents in the reader and the unbuffered tile extents in the crop filter. In this special case, the CRS of the Tiler must match the CRS of the point cloud."
   ]
  },
  {
   "metadata": {
    "ExecuteTime": {
     "end_time": "2025-01-08T21:50:26.296581Z",
     "start_time": "2025-01-08T21:49:57.565055Z"
    }
   },
   "cell_type": "code",
   "source": [
    "# Execute pipeline for all tiles\n",
    "logs = tiler.execute_piper(piper=piper)\n",
    "[log for log in logs if log != '']"
   ],
   "outputs": [
    {
     "data": {
      "text/plain": [
       "[]"
      ]
     },
     "execution_count": 12,
     "metadata": {},
     "output_type": "execute_result"
    }
   ],
   "execution_count": 12
  },
  {
   "metadata": {},
   "cell_type": "markdown",
   "source": "From here, additional analysis can be carried out with your software of choice."
  }
 ],
 "metadata": {
  "kernelspec": {
   "display_name": "Python 3",
   "language": "python",
   "name": "python3"
  },
  "language_info": {
   "codemirror_mode": {
    "name": "ipython",
    "version": 2
   },
   "file_extension": ".py",
   "mimetype": "text/x-python",
   "name": "python",
   "nbconvert_exporter": "python",
   "pygments_lexer": "ipython2",
   "version": "2.7.6"
  }
 },
 "nbformat": 4,
 "nbformat_minor": 0
}
